{
 "cells": [
  {
   "cell_type": "markdown",
   "id": "9f197f7f-71a4-44de-94e7-ca9e5af7483e",
   "metadata": {},
   "source": [
    "## Libraries"
   ]
  },
  {
   "cell_type": "code",
   "execution_count": 3,
   "id": "e0c65a59-b96f-465e-8f25-44d03bcb11ac",
   "metadata": {},
   "outputs": [],
   "source": [
    "import pathlib\n",
    "import time\n",
    "import ipywidgets\n",
    "import matplotlib.pyplot as plt\n",
    "import numpy as np\n",
    "import polars as pl\n",
    "import seaborn as sns\n",
    "from sklearn.metrics.pairwise import cosine_similarity\n",
    "from sklearn.metrics.pairwise import euclidean_distances\n",
    "from sklearn.model_selection import train_test_split\n",
    "import torch\n",
    "import torch.nn as nn\n",
    "import torch.optim as optim\n",
    "from torch.utils.data import DataLoader, Dataset\n",
    "from tqdm.auto import tqdm\n",
    "import torch.nn.functional as F"
   ]
  },
  {
   "cell_type": "markdown",
   "id": "36dac731-0578-419c-9f08-a23a6d1a132e",
   "metadata": {},
   "source": [
    "## Baseline Model Implementation\n",
    "* Used the model from the in-class example but dtrained it in the fashion csv data instead"
   ]
  },
  {
   "cell_type": "code",
   "execution_count": 4,
   "id": "13f99d8a-d0a6-4388-b50e-c94a25df1a67",
   "metadata": {},
   "outputs": [
    {
     "data": {
      "text/plain": [
       "<torch._C.Generator at 0x16105795ab0>"
      ]
     },
     "execution_count": 4,
     "metadata": {},
     "output_type": "execute_result"
    }
   ],
   "source": [
    "torch.manual_seed(0)"
   ]
  },
  {
   "cell_type": "code",
   "execution_count": 5,
   "id": "a1aab0c6-e043-4a42-9feb-33d4288cef1a",
   "metadata": {},
   "outputs": [],
   "source": [
    "train_filepath = pathlib.Path('fashion_mnist/fashion-mnist_train.csv')\n",
    "test_filepath = pathlib.Path('fashion_mnist/fashion-mnist_test.csv')"
   ]
  },
  {
   "cell_type": "code",
   "execution_count": 6,
   "id": "c01f6312-e992-4332-b1cb-53ce608358ff",
   "metadata": {},
   "outputs": [
    {
     "name": "stdout",
     "output_type": "stream",
     "text": [
      "shape: (5, 784)\n",
      "┌────────┬────────┬────────┬──────────┬───┬──────────┬──────────┬──────────┬──────────┐\n",
      "│ pixel1 ┆ pixel2 ┆ pixel3 ┆ pixel4   ┆ … ┆ pixel781 ┆ pixel782 ┆ pixel783 ┆ pixel784 │\n",
      "│ ---    ┆ ---    ┆ ---    ┆ ---      ┆   ┆ ---      ┆ ---      ┆ ---      ┆ ---      │\n",
      "│ f64    ┆ f64    ┆ f64    ┆ f64      ┆   ┆ f64      ┆ f64      ┆ f64      ┆ f64      │\n",
      "╞════════╪════════╪════════╪══════════╪═══╪══════════╪══════════╪══════════╪══════════╡\n",
      "│ 0.0    ┆ 0.0    ┆ 0.0    ┆ 0.0      ┆ … ┆ 0.0      ┆ 0.0      ┆ 0.0      ┆ 0.0      │\n",
      "│ 0.0    ┆ 0.0    ┆ 0.0    ┆ 0.0      ┆ … ┆ 0.0      ┆ 0.0      ┆ 0.0      ┆ 0.0      │\n",
      "│ 0.0    ┆ 0.0    ┆ 0.0    ┆ 0.0      ┆ … ┆ 0.0      ┆ 0.0      ┆ 0.0      ┆ 0.0      │\n",
      "│ 0.0    ┆ 0.0    ┆ 0.0    ┆ 0.003922 ┆ … ┆ 0.0      ┆ 0.0      ┆ 0.0      ┆ 0.0      │\n",
      "│ 0.0    ┆ 0.0    ┆ 0.0    ┆ 0.0      ┆ … ┆ 0.0      ┆ 0.0      ┆ 0.0      ┆ 0.0      │\n",
      "└────────┴────────┴────────┴──────────┴───┴──────────┴──────────┴──────────┴──────────┘\n",
      "shape: (5, 10)\n",
      "┌─────────┬─────────┬─────────┬─────────┬───┬─────────┬─────────┬─────────┬─────────┐\n",
      "│ label_0 ┆ label_1 ┆ label_2 ┆ label_3 ┆ … ┆ label_6 ┆ label_7 ┆ label_8 ┆ label_9 │\n",
      "│ ---     ┆ ---     ┆ ---     ┆ ---     ┆   ┆ ---     ┆ ---     ┆ ---     ┆ ---     │\n",
      "│ u8      ┆ u8      ┆ u8      ┆ u8      ┆   ┆ u8      ┆ u8      ┆ u8      ┆ u8      │\n",
      "╞═════════╪═════════╪═════════╪═════════╪═══╪═════════╪═════════╪═════════╪═════════╡\n",
      "│ 0       ┆ 0       ┆ 1       ┆ 0       ┆ … ┆ 0       ┆ 0       ┆ 0       ┆ 0       │\n",
      "│ 0       ┆ 0       ┆ 0       ┆ 0       ┆ … ┆ 0       ┆ 0       ┆ 0       ┆ 1       │\n",
      "│ 0       ┆ 0       ┆ 0       ┆ 0       ┆ … ┆ 1       ┆ 0       ┆ 0       ┆ 0       │\n",
      "│ 1       ┆ 0       ┆ 0       ┆ 0       ┆ … ┆ 0       ┆ 0       ┆ 0       ┆ 0       │\n",
      "│ 0       ┆ 0       ┆ 0       ┆ 1       ┆ … ┆ 0       ┆ 0       ┆ 0       ┆ 0       │\n",
      "└─────────┴─────────┴─────────┴─────────┴───┴─────────┴─────────┴─────────┴─────────┘\n",
      "shape: (5, 784)\n",
      "┌────────┬────────┬────────┬────────┬───┬──────────┬──────────┬──────────┬──────────┐\n",
      "│ pixel1 ┆ pixel2 ┆ pixel3 ┆ pixel4 ┆ … ┆ pixel781 ┆ pixel782 ┆ pixel783 ┆ pixel784 │\n",
      "│ ---    ┆ ---    ┆ ---    ┆ ---    ┆   ┆ ---      ┆ ---      ┆ ---      ┆ ---      │\n",
      "│ f64    ┆ f64    ┆ f64    ┆ f64    ┆   ┆ f64      ┆ f64      ┆ f64      ┆ f64      │\n",
      "╞════════╪════════╪════════╪════════╪═══╪══════════╪══════════╪══════════╪══════════╡\n",
      "│ 0.0    ┆ 0.0    ┆ 0.0    ┆ 0.0    ┆ … ┆ 0.0      ┆ 0.0      ┆ 0.0      ┆ 0.0      │\n",
      "│ 0.0    ┆ 0.0    ┆ 0.0    ┆ 0.0    ┆ … ┆ 0.0      ┆ 0.0      ┆ 0.0      ┆ 0.0      │\n",
      "│ 0.0    ┆ 0.0    ┆ 0.0    ┆ 0.0    ┆ … ┆ 0.121569 ┆ 0.0      ┆ 0.0      ┆ 0.0      │\n",
      "│ 0.0    ┆ 0.0    ┆ 0.0    ┆ 0.0    ┆ … ┆ 0.870588 ┆ 0.219608 ┆ 0.0      ┆ 0.0      │\n",
      "│ 0.0    ┆ 0.0    ┆ 0.0    ┆ 0.0    ┆ … ┆ 0.0      ┆ 0.0      ┆ 0.0      ┆ 0.0      │\n",
      "└────────┴────────┴────────┴────────┴───┴──────────┴──────────┴──────────┴──────────┘\n",
      "shape: (5, 10)\n",
      "┌─────────┬─────────┬─────────┬─────────┬───┬─────────┬─────────┬─────────┬─────────┐\n",
      "│ label_0 ┆ label_1 ┆ label_2 ┆ label_3 ┆ … ┆ label_6 ┆ label_7 ┆ label_8 ┆ label_9 │\n",
      "│ ---     ┆ ---     ┆ ---     ┆ ---     ┆   ┆ ---     ┆ ---     ┆ ---     ┆ ---     │\n",
      "│ u8      ┆ u8      ┆ u8      ┆ u8      ┆   ┆ u8      ┆ u8      ┆ u8      ┆ u8      │\n",
      "╞═════════╪═════════╪═════════╪═════════╪═══╪═════════╪═════════╪═════════╪═════════╡\n",
      "│ 1       ┆ 0       ┆ 0       ┆ 0       ┆ … ┆ 0       ┆ 0       ┆ 0       ┆ 0       │\n",
      "│ 0       ┆ 1       ┆ 0       ┆ 0       ┆ … ┆ 0       ┆ 0       ┆ 0       ┆ 0       │\n",
      "│ 0       ┆ 0       ┆ 1       ┆ 0       ┆ … ┆ 0       ┆ 0       ┆ 0       ┆ 0       │\n",
      "│ 0       ┆ 0       ┆ 1       ┆ 0       ┆ … ┆ 0       ┆ 0       ┆ 0       ┆ 0       │\n",
      "│ 0       ┆ 0       ┆ 0       ┆ 1       ┆ … ┆ 0       ┆ 0       ┆ 0       ┆ 0       │\n",
      "└─────────┴─────────┴─────────┴─────────┴───┴─────────┴─────────┴─────────┴─────────┘\n"
     ]
    }
   ],
   "source": [
    "train_df = pl.read_csv(train_filepath)\n",
    "test_df = pl.read_csv(test_filepath)\n",
    "\n",
    "pixel_columns = [f'pixel{i}' for i in range(1, 785)]\n",
    "\n",
    "train_features = train_df.select(pl.col(pixel_columns)).with_columns(\n",
    "    pl.all() / 255.0  \n",
    ")\n",
    "train_target = train_df.select(pl.col(\"label\")).cast(\n",
    "    pl.Int32\n",
    ").to_dummies()\n",
    "\n",
    "test_features = test_df.select(pl.col(pixel_columns)).with_columns(\n",
    "    pl.all() / 255.0  \n",
    ")\n",
    "test_target = test_df.select(pl.col(\"label\")).cast(\n",
    "    pl.Int32\n",
    ").to_dummies()\n",
    "\n",
    "print(train_features.head())\n",
    "print(train_target.head())\n",
    "print(test_features.head())\n",
    "print(test_target.head())"
   ]
  },
  {
   "cell_type": "code",
   "execution_count": 7,
   "id": "27629891-a719-4b2d-a29a-5e1d6d1c89ce",
   "metadata": {},
   "outputs": [
    {
     "data": {
      "image/png": "[encoded data removed]",
      "text/plain": [
       "<Figure size 500x500 with 1 Axes>"
      ]
     },
     "metadata": {},
     "output_type": "display_data"
    }
   ],
   "source": [
    "test_image = train_features[56].to_numpy().reshape(28, 28)\n",
    "fig, ax = plt.subplots(1, 1, figsize=(5, 5))\n",
    "ax.imshow(\n",
    "    test_image,\n",
    "    cmap='gray', \n",
    "    vmin=0, \n",
    "    vmax=1\n",
    ")\n",
    "plt.show()"
   ]
  },
  {
   "cell_type": "code",
   "execution_count": 8,
   "id": "8dd56833-5a74-45cd-b8b9-ba2b5708f7d1",
   "metadata": {},
   "outputs": [],
   "source": [
    "# Custom Dataset class\n",
    "class MNISTDataset(Dataset):\n",
    "    def __init__(self, features, targets):\n",
    "        self.features = features\n",
    "        self.targets = targets\n",
    "\n",
    "    def __len__(self):\n",
    "        return len(self.features)\n",
    "\n",
    "    def __getitem__(self, idx):\n",
    "        image = self.features[idx].reshape(28, 28).astype('float32')\n",
    "        label = self.targets[idx].astype('float32')\n",
    "        return torch.tensor(image), torch.tensor(label)"
   ]
  },
  {
   "cell_type": "code",
   "execution_count": 9,
   "id": "b9a5095b-2af0-48ed-980c-38883f666b26",
   "metadata": {},
   "outputs": [
    {
     "name": "stdout",
     "output_type": "stream",
     "text": [
      "Training data shape: (51000, 784)\n",
      "Training labels shape: (51000, 10)\n",
      "Validation data shape: (9000, 784)\n",
      "Validation labels shape: (9000, 10)\n",
      "Test data shape: (10000, 784)\n",
      "Test labels shape: (10000, 10)\n"
     ]
    }
   ],
   "source": [
    "X_train_full = train_features.to_numpy()\n",
    "y_train_full = train_target.to_numpy()\n",
    "\n",
    "X_test = test_features.to_numpy()\n",
    "y_test = test_target.to_numpy()\n",
    "\n",
    "# Split train data into training and validation sets (85-15 split)\n",
    "X_train, X_val, y_train, y_val = train_test_split(\n",
    "    X_train_full, \n",
    "    y_train_full, \n",
    "    test_size=0.15, \n",
    "    random_state=42\n",
    ")\n",
    "\n",
    "train_dataset = MNISTDataset(X_train, y_train)\n",
    "val_dataset = MNISTDataset(X_val, y_val)\n",
    "test_dataset = MNISTDataset(X_test, y_test)\n",
    "\n",
    "# Inspect the shapes of your datasets\n",
    "print(\"Training data shape:\", X_train.shape)\n",
    "print(\"Training labels shape:\", y_train.shape)\n",
    "print(\"Validation data shape:\", X_val.shape)\n",
    "print(\"Validation labels shape:\", y_val.shape)\n",
    "print(\"Test data shape:\", X_test.shape)\n",
    "print(\"Test labels shape:\", y_test.shape)"
   ]
  },
  {
   "cell_type": "code",
   "execution_count": 10,
   "id": "16bd92c1-d7b0-4e07-8ac4-22c21e73a896",
   "metadata": {},
   "outputs": [],
   "source": [
    "# Define the CNN model\n",
    "class SimpleCNN(nn.Module):\n",
    "    def __init__(self):\n",
    "        super(SimpleCNN, self).__init__()\n",
    "        self.conv1 = nn.Conv2d(in_channels=1, out_channels=32, kernel_size=3)\n",
    "        self.relu1 = nn.ReLU()\n",
    "        self.pool1 = nn.MaxPool2d(2, 2)\n",
    "        self.conv2 = nn.Conv2d(in_channels=32, out_channels=64, kernel_size=3)\n",
    "        self.relu2 = nn.ReLU()\n",
    "        self.pool2 = nn.MaxPool2d(2, 2)\n",
    "        self.fc1 = nn.Linear(64 * 5 * 5, 128)\n",
    "        self.relufc = nn.ReLU()\n",
    "        self.fc2 = nn.Linear(128, 10)\n",
    "        \n",
    "\n",
    "    def forward(self, x):\n",
    "        x = self.conv1(x)\n",
    "        x = self.relu1(x)\n",
    "        x = self.pool1(x)\n",
    "        x = self.conv2(x)\n",
    "        x = self.relu2(x)\n",
    "        x = self.pool2(x)\n",
    "        x = x.view(-1, 64 * 5 * 5)\n",
    "        x = self.fc1(x)\n",
    "        x = self.relufc(x)\n",
    "        x = self.fc2(x)\n",
    "        return x"
   ]
  },
  {
   "cell_type": "code",
   "execution_count": 11,
   "id": "c4116d7b-f225-43b9-ab5a-5ccb76952813",
   "metadata": {},
   "outputs": [],
   "source": [
    "num_epochs = 10\n",
    "batch_size = 64\n",
    "learning_rate = 0.001"
   ]
  },
  {
   "cell_type": "code",
   "execution_count": 12,
   "id": "781dee2e-a1b8-4ac2-a73f-7b2b47a4ebfc",
   "metadata": {},
   "outputs": [],
   "source": [
    "train_loader = DataLoader(\n",
    "    dataset=train_dataset, \n",
    "    batch_size=batch_size, \n",
    "    shuffle=True,\n",
    ")\n",
    "val_loader = DataLoader(\n",
    "    dataset=val_dataset, \n",
    "    batch_size=batch_size, \n",
    "    shuffle=False,\n",
    ")\n",
    "test_loader = DataLoader(\n",
    "    dataset=test_dataset, \n",
    "    batch_size=batch_size, \n",
    "    shuffle=False,\n",
    ")"
   ]
  },
  {
   "cell_type": "code",
   "execution_count": 13,
   "id": "a4ffbdd2-dccc-4f3e-bd06-77b89bcb1ca3",
   "metadata": {},
   "outputs": [
    {
     "data": {
      "text/plain": [
       "SimpleCNN(\n",
       "  (conv1): Conv2d(1, 32, kernel_size=(3, 3), stride=(1, 1))\n",
       "  (relu1): ReLU()\n",
       "  (pool1): MaxPool2d(kernel_size=2, stride=2, padding=0, dilation=1, ceil_mode=False)\n",
       "  (conv2): Conv2d(32, 64, kernel_size=(3, 3), stride=(1, 1))\n",
       "  (relu2): ReLU()\n",
       "  (pool2): MaxPool2d(kernel_size=2, stride=2, padding=0, dilation=1, ceil_mode=False)\n",
       "  (fc1): Linear(in_features=1600, out_features=128, bias=True)\n",
       "  (relufc): ReLU()\n",
       "  (fc2): Linear(in_features=128, out_features=10, bias=True)\n",
       ")"
      ]
     },
     "execution_count": 13,
     "metadata": {},
     "output_type": "execute_result"
    }
   ],
   "source": [
    "model = SimpleCNN()\n",
    "model"
   ]
  },
  {
   "cell_type": "code",
   "execution_count": 15,
   "id": "cdf2d44b-50b7-48df-a6c4-53c821d4f7c1",
   "metadata": {},
   "outputs": [
    {
     "name": "stdout",
     "output_type": "stream",
     "text": [
      "Using device: cuda\n"
     ]
    }
   ],
   "source": [
    "device = torch.device('cuda' if torch.cuda.is_available() else 'cpu')\n",
    "print(f\"Using device: {device}\")"
   ]
  },
  {
   "cell_type": "code",
   "execution_count": 16,
   "id": "3a82e752-e19e-4852-b782-bb4612b6b1cc",
   "metadata": {},
   "outputs": [
    {
     "name": "stdout",
     "output_type": "stream",
     "text": [
      "Epoch [1/10], Training Loss: 0.5402, Validation Loss: 0.3978\n",
      "Epoch [2/10], Training Loss: 0.3595, Validation Loss: 0.3410\n",
      "Epoch [3/10], Training Loss: 0.3075, Validation Loss: 0.3016\n",
      "Epoch [4/10], Training Loss: 0.2725, Validation Loss: 0.3000\n",
      "Epoch [5/10], Training Loss: 0.2459, Validation Loss: 0.2722\n",
      "Epoch [6/10], Training Loss: 0.2243, Validation Loss: 0.2604\n",
      "Epoch [7/10], Training Loss: 0.2058, Validation Loss: 0.2696\n",
      "Epoch [8/10], Training Loss: 0.1867, Validation Loss: 0.2527\n",
      "Epoch [9/10], Training Loss: 0.1703, Validation Loss: 0.2562\n",
      "Epoch [10/10], Training Loss: 0.1553, Validation Loss: 0.2756\n",
      " - Training for 10 took 76.70 seconds.\n",
      "Accuracy of the model on the test images: 90.96%\n"
     ]
    }
   ],
   "source": [
    "model = SimpleCNN().to(device)\n",
    "criterion = nn.CrossEntropyLoss()\n",
    "optimizer = optim.Adam(model.parameters(), lr=learning_rate)\n",
    "\n",
    "start_time = time.time()\n",
    "\n",
    "training_history = []\n",
    "for epoch in range(num_epochs):\n",
    "    model.train()\n",
    "    running_training_loss = 0.0\n",
    "    for images, labels in train_loader:\n",
    "        images = images.unsqueeze(1).to(device)  # Add channel dimension\n",
    "        labels = labels.to(device)\n",
    "        optimizer.zero_grad()\n",
    "        outputs = model(images)\n",
    "        loss = criterion(outputs, labels)\n",
    "        loss.backward()\n",
    "        optimizer.step()\n",
    "        running_training_loss += loss.item()\n",
    "\n",
    "    training_loss = running_training_loss / len(train_loader)\n",
    "    training_history.append({\n",
    "        'epoch': epoch+1,\n",
    "        'phase': 'Training',\n",
    "        'loss': training_loss\n",
    "    })\n",
    "    \n",
    "    # Validation step\n",
    "    model.eval()\n",
    "    running_val_loss = 0.0\n",
    "    with torch.no_grad():\n",
    "        for images, labels in val_loader:\n",
    "            images = images.unsqueeze(1).to(device)  # Add channel dimension\n",
    "            labels = labels.to(device)\n",
    "            outputs = model(images)\n",
    "            loss = criterion(outputs, labels)\n",
    "            running_val_loss += loss.item()\n",
    "            \n",
    "    validation_loss = running_val_loss / len(val_loader)\n",
    "    training_history.append({\n",
    "        'epoch': epoch+1,\n",
    "        'phase': 'Validation',\n",
    "        'loss': validation_loss\n",
    "    })\n",
    "\n",
    "    print(f\"Epoch [{epoch+1}/{num_epochs}], Training Loss: {training_loss:.4f}, Validation Loss: {validation_loss:.4f}\")\n",
    "\n",
    "end_time = time.time()\n",
    "elapsed_time = end_time - start_time\n",
    "print(f' - Training for {num_epochs} took {elapsed_time:.2f} seconds.')\n",
    "\n",
    "model.eval()\n",
    "correct = 0\n",
    "total = 0\n",
    "with torch.no_grad():\n",
    "    for images, labels in test_loader:\n",
    "        images = images.unsqueeze(1).to(device)  # Add channel dimension\n",
    "        labels = labels.to(device)\n",
    "        outputs = model(images)\n",
    "        _, predicted = torch.max(outputs.data, 1)\n",
    "        total += labels.size(0)\n",
    "        correct += (predicted == labels.argmax(axis=1)).sum().item()\n",
    "print(f\"Accuracy of the model on the test images: {100 * correct / total:.2f}%\")"
   ]
  },
  {
   "cell_type": "markdown",
   "id": "53b88226-ec17-4a39-ace8-43d18289bcb7",
   "metadata": {},
   "source": [
    "## Analysis\n",
    "* Accuracy of the base model was 90.96% and a training time of 76.70 seconds. I was originally runnign this on my cpu and this is when I first discovered how important it was going to be to run on my cuda gpu for the hyperparameters experimentation section\n",
    "* Both the training loss and validation loss converge until epoch 10 then the training loss continues to converge as the validation loss increases, this may indicate possible overfitting. \n",
    "* Overall this was a successful run with training on the new fashion data.\n",
    "    * the filter size of (3x3), batch size of 64 and feature size of 32,64 performed fairly well and fairly efficiently on the gpu and this will be a good baseline to hopefully build off of in the experimentation section"
   ]
  },
  {
   "cell_type": "markdown",
   "id": "266aaa1d-d6a4-4e68-ab60-d6fcac962d48",
   "metadata": {},
   "source": [
    "## Experimentation Section"
   ]
  },
  {
   "cell_type": "code",
   "execution_count": 17,
   "id": "7cb8db6c-571d-4f65-8648-1f18b1a15ee7",
   "metadata": {},
   "outputs": [],
   "source": [
    "class SimpleCNN(nn.Module):\n",
    "    def __init__(self, filter_size1, filter_size2, features1, features2):\n",
    "        super(SimpleCNN, self).__init__()\n",
    "        self.conv1 = nn.Conv2d(1, features1, kernel_size=filter_size1)\n",
    "        self.pool1 = nn.MaxPool2d(2, 2)\n",
    "        self.conv2 = nn.Conv2d(features1, features2, kernel_size=filter_size2)\n",
    "        self.pool2 = nn.MaxPool2d(2, 2)\n",
    "        \n",
    "        # Dummy forward pass to calculate the flattened dimension\n",
    "        self.flattened_size = self._get_flattened_size(filter_size1, filter_size2, features1, features2)\n",
    "        \n",
    "        # Fully connected layers\n",
    "        self.fc1 = nn.Linear(self.flattened_size, 128)\n",
    "        self.relufc = nn.ReLU()\n",
    "        self.fc2 = nn.Linear(128, 10)  # Assuming 10 output classes\n",
    "\n",
    "    def _get_flattened_size(self, filter_size1, filter_size2, features1, features2):\n",
    "        with torch.no_grad():\n",
    "            dummy_input = torch.zeros(1, 1, 28, 28)  # Adjust if input image size differs\n",
    "            x = self.pool1(self.conv1(dummy_input))\n",
    "            x = self.pool2(self.conv2(x))\n",
    "            return x.numel()  # Flattened size after convolutions\n",
    "\n",
    "    def forward(self, x):\n",
    "        x = self.pool1(F.relu(self.conv1(x)))\n",
    "        x = self.pool2(F.relu(self.conv2(x)))\n",
    "        x = x.view(-1, self.flattened_size)\n",
    "        x = self.fc1(x)\n",
    "        x = self.relufc(x)\n",
    "        x = self.fc2(x)\n",
    "        return x"
   ]
  },
  {
   "cell_type": "code",
   "execution_count": 18,
   "id": "5ee437d5-430c-4e2a-898d-25f4a41435c4",
   "metadata": {},
   "outputs": [],
   "source": [
    "# Parameters to test\n",
    "filter_sizes = [(3, 3), (5, 5)]\n",
    "feature_counts = [(16, 32), (32, 64), (64, 128)]\n",
    "batch_sizes = [32, 64, 128]\n",
    "\n",
    "# Training setup\n",
    "num_epochs = 10\n",
    "learning_rate = 0.001\n",
    "device = torch.device('cuda' if torch.cuda.is_available() else 'cpu')"
   ]
  },
  {
   "cell_type": "code",
   "execution_count": 20,
   "id": "77c6fd2d-a8ae-42df-aa61-c7dc54d74214",
   "metadata": {},
   "outputs": [
    {
     "name": "stdout",
     "output_type": "stream",
     "text": [
      "Running experiment with filter sizes 3x3, features 16/32, batch size 32\n",
      "Completed experiment: Accuracy = 90.87% in 1.64 minutes\n",
      "Running experiment with filter sizes 3x3, features 16/32, batch size 64\n",
      "Completed experiment: Accuracy = 90.72% in 1.04 minutes\n",
      "Running experiment with filter sizes 3x3, features 16/32, batch size 128\n",
      "Completed experiment: Accuracy = 90.16% in 0.86 minutes\n",
      "Running experiment with filter sizes 3x3, features 32/64, batch size 32\n",
      "Completed experiment: Accuracy = 91.39% in 1.65 minutes\n",
      "Running experiment with filter sizes 3x3, features 32/64, batch size 64\n",
      "Completed experiment: Accuracy = 91.90% in 1.13 minutes\n",
      "Running experiment with filter sizes 3x3, features 32/64, batch size 128\n",
      "Completed experiment: Accuracy = 90.73% in 0.87 minutes\n",
      "Running experiment with filter sizes 3x3, features 64/128, batch size 32\n",
      "Completed experiment: Accuracy = 91.59% in 1.65 minutes\n",
      "Running experiment with filter sizes 3x3, features 64/128, batch size 64\n",
      "Completed experiment: Accuracy = 92.20% in 1.12 minutes\n",
      "Running experiment with filter sizes 3x3, features 64/128, batch size 128\n",
      "Completed experiment: Accuracy = 91.08% in 0.93 minutes\n",
      "Running experiment with filter sizes 5x5, features 16/32, batch size 32\n",
      "Completed experiment: Accuracy = 91.07% in 1.82 minutes\n",
      "Running experiment with filter sizes 5x5, features 16/32, batch size 64\n",
      "Completed experiment: Accuracy = 90.90% in 1.10 minutes\n",
      "Running experiment with filter sizes 5x5, features 16/32, batch size 128\n",
      "Completed experiment: Accuracy = 90.80% in 0.88 minutes\n",
      "Running experiment with filter sizes 5x5, features 32/64, batch size 32\n",
      "Completed experiment: Accuracy = 91.21% in 1.68 minutes\n",
      "Running experiment with filter sizes 5x5, features 32/64, batch size 64\n",
      "Completed experiment: Accuracy = 91.22% in 1.15 minutes\n",
      "Running experiment with filter sizes 5x5, features 32/64, batch size 128\n",
      "Completed experiment: Accuracy = 91.13% in 0.90 minutes\n",
      "Running experiment with filter sizes 5x5, features 64/128, batch size 32\n",
      "Completed experiment: Accuracy = 91.53% in 1.71 minutes\n",
      "Running experiment with filter sizes 5x5, features 64/128, batch size 64\n",
      "Completed experiment: Accuracy = 91.66% in 1.21 minutes\n",
      "Running experiment with filter sizes 5x5, features 64/128, batch size 128\n",
      "Completed experiment: Accuracy = 90.59% in 0.99 minutes\n",
      "Total time for all experiments: 22.36 minutes\n"
     ]
    }
   ],
   "source": [
    "torch.manual_seed(0)\n",
    "\n",
    "# The function to train and evaluate the model\n",
    "def train_and_evaluate(filter_size1, filter_size2, features1, features2, batch_size):\n",
    "    train_loader = DataLoader(dataset=train_dataset, batch_size=batch_size, shuffle=True)\n",
    "    val_loader = DataLoader(dataset=val_dataset, batch_size=batch_size, shuffle=False)\n",
    "    test_loader = DataLoader(dataset=test_dataset, batch_size=batch_size, shuffle=False)\n",
    "\n",
    "    model = SimpleCNN(filter_size1, filter_size2, features1, features2).to(device)\n",
    "    criterion = nn.CrossEntropyLoss()\n",
    "    optimizer = optim.Adam(model.parameters(), lr=learning_rate)\n",
    "\n",
    "    training_history = []\n",
    "    for epoch in range(num_epochs):\n",
    "        model.train()\n",
    "        running_training_loss = 0.0\n",
    "        for images, labels in train_loader:\n",
    "            images = images.unsqueeze(1).to(device)  # Add channel dimension\n",
    "            labels = labels.to(device)\n",
    "            optimizer.zero_grad()\n",
    "            outputs = model(images)\n",
    "            loss = criterion(outputs, labels)\n",
    "            loss.backward()\n",
    "            optimizer.step()\n",
    "            running_training_loss += loss.item()\n",
    "\n",
    "        training_loss = running_training_loss / len(train_loader)\n",
    "        training_history.append({\n",
    "            'epoch': epoch+1,\n",
    "            'phase': 'Training',\n",
    "            'loss': training_loss\n",
    "        })\n",
    "        \n",
    "        # Validation step\n",
    "        model.eval()\n",
    "        running_val_loss = 0.0\n",
    "        with torch.no_grad():\n",
    "            for images, labels in val_loader:\n",
    "                images = images.unsqueeze(1).to(device)  # Add channel dimension\n",
    "                labels = labels.to(device)\n",
    "                outputs = model(images)\n",
    "                loss = criterion(outputs, labels)\n",
    "                running_val_loss += loss.item()\n",
    "                \n",
    "        validation_loss = running_val_loss / len(val_loader)\n",
    "        training_history.append({\n",
    "            'epoch': epoch+1,\n",
    "            'phase': 'Validation',\n",
    "            'loss': validation_loss\n",
    "        })\n",
    "\n",
    "    # Testing the accuracy\n",
    "    model.eval()\n",
    "    correct = 0\n",
    "    total = 0\n",
    "    with torch.no_grad():\n",
    "        for images, labels in test_loader:\n",
    "            images = images.unsqueeze(1).to(device)\n",
    "            labels = labels.to(device)\n",
    "            outputs = model(images)\n",
    "            _, predicted = torch.max(outputs.data, 1)\n",
    "            total += labels.size(0)\n",
    "            correct += (predicted == labels.argmax(dim=1)).sum().item()\n",
    "    accuracy = 100 * correct / total\n",
    "\n",
    "    return training_history, accuracy\n",
    "\n",
    "\n",
    "results = []\n",
    "\n",
    "# Run the experiments for all the parameter combinations\n",
    "start_time = time.time()\n",
    "for (filter_size1, filter_size2) in filter_sizes:\n",
    "    for (features1, features2) in feature_counts:\n",
    "        for batch_size in batch_sizes:\n",
    "            experiment_start_time = time.time()\n",
    "            print(f\"Running experiment with filter sizes {filter_size1}x{filter_size2}, features {features1}/{features2}, batch size {batch_size}\")\n",
    "            \n",
    "            history, accuracy = train_and_evaluate(filter_size1, filter_size2, features1, features2, batch_size)\n",
    "            \n",
    "            experiment_end_time = time.time()\n",
    "            experiment_duration = experiment_end_time - experiment_start_time\n",
    "            \n",
    "            results.append({\n",
    "                'filter_size': (filter_size1, filter_size2),\n",
    "                'features': (features1, features2),\n",
    "                'batch_size': batch_size,\n",
    "                'accuracy': accuracy,\n",
    "                'history': history,\n",
    "                'duration': experiment_duration  # Adding the duration to results\n",
    "            })\n",
    "            \n",
    "            print(f\"Completed experiment: Accuracy = {accuracy:.2f}% in {experiment_duration / 60:.2f} minutes\")\n",
    "\n",
    "end_time = time.time()\n",
    "total_elapsed_time = end_time - start_time\n",
    "print(f\"Total time for all experiments: {total_elapsed_time / 60:.2f} minutes\")\n"
   ]
  },
  {
   "cell_type": "markdown",
   "id": "d90349fb-f3a2-42ab-8813-8c03f9ca6edd",
   "metadata": {},
   "source": [
    "## Hyperparameters and their influence Model Accuracy and Training Duration\n",
    "* Filter Sizes (3x3, 5x5)\n",
    "  * Determines how many pixels are analyzed in a group together.. 3x3 is a smaller receptive layer while 5x5 is larger\n",
    "  * Overall a higher accuracy was captured with the 5x5 layer as this was most likely able to capture more spacial features\n",
    "  * However with this higher accuracy, 5x5 had a higher computational time due to the increased number of computatations in the computational layer\n",
    "* Number of features (16/32, 32/64, 64/128)\n",
    "  * This is ultimately related to the models overall capacity (larger number of features means a larger capacity)\n",
    "  * Larger number of features allows the model to learn more complex patterns\n",
    "  * Ultimately a slight increase was seen as the number of features increase, but overall there seemed to be a capacity or a slight plateu with this. This may suggest that inceasing the features past a certain point may cause overfitting of the model and poor performance on the test set\n",
    "  * A direct correlation with increase features and increased training was seen in this model\n",
    "* Batch size (32, 64, 128)\n",
    "    * Essentially the number of samples processed before updating the models weights\n",
    "    * I expected that smaller batch sizes would be more accurate as the weights are adjusted more frequently, however I have found in my results that the results seem only to fluctuate slightly\n",
    "    * Higher batches reduced the computation time as expected as the models weights are changing less frequently"
   ]
  },
  {
   "cell_type": "code",
   "execution_count": 22,
   "id": "cd62189e-babc-4e43-936b-d97093159de2",
   "metadata": {},
   "outputs": [
    {
     "data": {
      "image/png": "[encoded data removed]",
      "text/plain": [
       "<Figure size 1000x600 with 1 Axes>"
      ]
     },
     "metadata": {},
     "output_type": "display_data"
    }
   ],
   "source": [
    "import pandas as pd\n",
    "\n",
    "# Convert results to a DataFrame for easy plotting\n",
    "data = []\n",
    "for res in results:\n",
    "    for record in res['history']:\n",
    "        data.append({\n",
    "            'filter_size': f\"{res['filter_size'][0]}x{res['filter_size'][1]}\",\n",
    "            'features': f\"{res['features'][0]}/{res['features'][1]}\",\n",
    "            'batch_size': res['batch_size'],\n",
    "            'accuracy': res['accuracy'],\n",
    "            'epoch': record['epoch'],\n",
    "            'phase': record['phase'],\n",
    "            'loss': record['loss'],\n",
    "            'duration': res['duration'] / 60  # Convert to minutes for readability\n",
    "        })\n",
    "\n",
    "df = pd.DataFrame(data)\n",
    "\n",
    "\n",
    "plt.figure(figsize=(10, 6))\n",
    "sns.scatterplot(\n",
    "    data=experiment_results,\n",
    "    x='duration', \n",
    "    y='accuracy', \n",
    "    hue='filter_size', \n",
    "    style='batch_size', \n",
    "    s=100, \n",
    "    palette='viridis'\n",
    ")\n",
    "plt.title(\"Experiment Duration vs. Accuracy\")\n",
    "plt.xlabel(\"Training Duration (minutes)\")\n",
    "plt.ylabel(\"Accuracy (%)\")\n",
    "plt.legend(title=\"Filter Size/Batch Size\", bbox_to_anchor=(1.05, 1), loc='upper left')\n",
    "plt.show()\n"
   ]
  },
  {
   "cell_type": "markdown",
   "id": "9d5a0893-6f20-4c96-be47-a8904f150e63",
   "metadata": {},
   "source": [
    "## Analysis\n",
    "* The most efficient model was the 3x3 filter size and 64 batch size(and 64/128 features)\n",
    "* Overall the model is fairly accurate with the data but the model architecture or the optimization process is not very sensitive to the changes in these particular hyperparameters(as the range in accuracy's is pretty small)"
   ]
  }
 ],
 "metadata": {
  "kernelspec": {
   "display_name": "Python 3 (ipykernel)",
   "language": "python",
   "name": "python3"
  },
  "language_info": {
   "codemirror_mode": {
    "name": "ipython",
    "version": 3
   },
   "file_extension": ".py",
   "mimetype": "text/x-python",
   "name": "python",
   "nbconvert_exporter": "python",
   "pygments_lexer": "ipython3",
   "version": "3.12.5"
  }
 },
 "nbformat": 4,
 "nbformat_minor": 5
}
